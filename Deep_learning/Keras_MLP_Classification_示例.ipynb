{
 "cells": [
  {
   "cell_type": "code",
   "execution_count": 1,
   "metadata": {},
   "outputs": [
    {
     "name": "stderr",
     "output_type": "stream",
     "text": [
      "Using TensorFlow backend.\n"
     ]
    }
   ],
   "source": [
    "import numpy as np\n",
    "import pandas as pd\n",
    "import tensorflow as tf\n",
    "from tensorflow.keras import layers,Sequential\n",
    "from tensorflow.keras.callbacks import EarlyStopping,TensorBoard,LambdaCallback\n",
    "from tensorflow.keras.utils import to_categorical,plot_model\n",
    "from tensorflow.keras.models import load_model\n",
    "from QSAR_package.data_split import extractData,randomSpliter\n",
    "from QSAR_package.feature_preprocess import correlationSelection\n",
    "from QSAR_package.data_scale import dataScale\n",
    "from QSAR_package.model_evaluation import modelEvaluator\n",
    "from time import time\n",
    "from IPython.display import SVG\n",
    "from keras.utils.vis_utils import model_to_dot\n",
    "import matplotlib.pyplot as plt\n",
    "from sklearn.model_selection import StratifiedShuffleSplit\n",
    "from sklearn.metrics import log_loss,roc_curve,auc\n",
    "from IPython.display import clear_output"
   ]
  },
  {
   "cell_type": "code",
   "execution_count": 2,
   "metadata": {},
   "outputs": [],
   "source": [
    "def Sec2Time(seconds):  # convert seconds to time\n",
    "    m, s = divmod(int(seconds), 60)\n",
    "    h, m = divmod(m, 60)\n",
    "    return (\"{:02d}h:{:02d}m:{:02d}s\".format(h, m, s))"
   ]
  },
  {
   "cell_type": "code",
   "execution_count": 3,
   "metadata": {},
   "outputs": [
    {
     "name": "stdout",
     "output_type": "stream",
     "text": [
      "train: 312\n",
      "test: 140\n"
     ]
    }
   ],
   "source": [
    "train_path = \"C:/OneDrive/Jupyter_notebook/Deep_learning/spla2_som_train_312_maccs.csv\"\n",
    "test_path = \"C:/OneDrive/Jupyter_notebook/Deep_learning/spla2_som_test_140_maccs.csv\"\n",
    "spliter = extractData()\n",
    "spliter.ExtractTrainTestData(train_path, test_path, label_name='Activity')\n",
    "\n",
    "tr_x = spliter.tr_x\n",
    "tr_y = spliter.tr_y\n",
    "te_y = spliter.te_y\n",
    "\n",
    "# 压缩\n",
    "scaler = dataScale(scale_range=(0.1, 0.9))\n",
    "tr_scaled_x = scaler.FitTransform(tr_x)\n",
    "te_scaled_x = scaler.Transform(spliter.te_x,DataSet='test')\n",
    "print('train: {}\\ntest: {}'.format(len(tr_scaled_x),len(te_scaled_x)))"
   ]
  },
  {
   "cell_type": "code",
   "execution_count": 4,
   "metadata": {},
   "outputs": [
    {
     "data": {
      "text/plain": [
       "(312, 166)"
      ]
     },
     "execution_count": 4,
     "metadata": {},
     "output_type": "execute_result"
    }
   ],
   "source": [
    "tr_scaled_x.shape"
   ]
  },
  {
   "cell_type": "code",
   "execution_count": 5,
   "metadata": {},
   "outputs": [],
   "source": [
    "tr_y_OneHot = to_categorical(tr_y,num_classes=2)\n",
    "te_y_OneHot = to_categorical(te_y,num_classes=2)"
   ]
  },
  {
   "cell_type": "code",
   "execution_count": 6,
   "metadata": {},
   "outputs": [],
   "source": [
    "# 把原始训练集分成若干组小训练集和验证集\n",
    "rs = StratifiedShuffleSplit(n_splits=5, test_size=0.2, random_state=0)\n",
    "rs.get_n_splits(tr_scaled_x,tr_y)\n",
    "tr_idxs = []\n",
    "va_idxs = []\n",
    "for train_index, test_index in rs.split(tr_scaled_x,tr_y):\n",
    "    tr_idxs.append(train_index)\n",
    "    va_idxs.append(test_index)"
   ]
  },
  {
   "cell_type": "code",
   "execution_count": 7,
   "metadata": {},
   "outputs": [
    {
     "data": {
      "text/plain": [
       "5"
      ]
     },
     "execution_count": 7,
     "metadata": {},
     "output_type": "execute_result"
    }
   ],
   "source": [
    "len(tr_idxs)"
   ]
  },
  {
   "cell_type": "code",
   "execution_count": 11,
   "metadata": {},
   "outputs": [
    {
     "data": {
      "text/plain": [
       "(249, 2)"
      ]
     },
     "execution_count": 11,
     "metadata": {},
     "output_type": "execute_result"
    }
   ],
   "source": [
    "tr_y_OneHot[tr_idxs[0]].shape"
   ]
  },
  {
   "cell_type": "code",
   "execution_count": 8,
   "metadata": {},
   "outputs": [],
   "source": [
    "# 自定义的回调函数——实时显示loss变化图\n",
    "class PlotLosses(tf.keras.callbacks.Callback):\n",
    "    def on_train_begin(self, logs={}):\n",
    "        self.i = 0\n",
    "        self.x = []\n",
    "        self.losses = []\n",
    "        self.val_losses = []\n",
    "        \n",
    "        self.fig = plt.figure()\n",
    "        \n",
    "        self.logs = []\n",
    "\n",
    "    def on_epoch_end(self, epoch, logs={}):\n",
    "        \n",
    "        self.logs.append(logs)\n",
    "        self.x.append(self.i)\n",
    "        self.losses.append(logs.get('loss'))\n",
    "        self.val_losses.append(logs.get('val_loss'))\n",
    "        self.i += 1\n",
    "        \n",
    "        clear_output(wait=True)\n",
    "        plt.plot(self.x, self.losses, c='b',lw=1,label=\"loss\")\n",
    "        plt.plot(self.x, self.val_losses, c='r',lw=1,label=\"val_loss\")\n",
    "        plt.legend()\n",
    "        plt.show();\n",
    "        \n",
    "    def on_train_end(self, logs={}):\n",
    "        print('Training complete')       \n",
    "plot_losses = PlotLosses()"
   ]
  },
  {
   "cell_type": "code",
   "execution_count": 9,
   "metadata": {},
   "outputs": [],
   "source": [
    "# 构建网络结构\n",
    "tf.keras.backend.clear_session()\n",
    "t0 = time()\n",
    "\n",
    "model = Sequential()\n",
    "model.add(layers.Dense(units=64,activation='relu',input_shape=(tr_scaled_x.shape[1],)))\n",
    "model.add(layers.Dropout(0.4))\n",
    "model.add(layers.Dense(units=64,activation='relu',name='Layer2'))\n",
    "model.add(layers.Dense(units=16,activation='relu'))\n",
    "model.add(layers.Dense(units=8,activation='relu'))\n",
    "model.add(layers.Dropout(0.25))\n",
    "model.add(layers.Dense(units=2,activation='sigmoid',name='OutputLayer'))\n",
    "\n",
    "model.compile(optimizer=tf.keras.optimizers.Adam(lr=0.0005),\n",
    "             loss='binary_crossentropy',metrics=['accuracy'])\n",
    "early_stopping = EarlyStopping(monitor='val_loss', min_delta=0,patience=20, verbose=1,mode='auto',baseline=None)"
   ]
  },
  {
   "cell_type": "code",
   "execution_count": 10,
   "metadata": {},
   "outputs": [
    {
     "data": {
      "image/png": "[encoded data removed]",
      "text/plain": [
       "<Figure size 432x288 with 1 Axes>"
      ]
     },
     "metadata": {},
     "output_type": "display_data"
    },
    {
     "name": "stdout",
     "output_type": "stream",
     "text": [
      "Training complete\n",
      "Epoch 00024: early stopping\n",
      "00h:00m:26s\n"
     ]
    }
   ],
   "source": [
    "# 训练模型（利用若干组小训练集和验证集重复训练与early_stop）\n",
    "history = []\n",
    "val_pred = []\n",
    "val_y = []\n",
    "for i in range(len(tr_idxs)):\n",
    "    tr_x_input = tr_scaled_x.iloc[tr_idxs[i],:].values\n",
    "    va_x_input = tr_scaled_x.iloc[va_idxs[i],:].values\n",
    "    tr_y_input = tr_y_OneHot[tr_idxs[i]]\n",
    "    va_y_input = tr_y_OneHot[va_idxs[i]]\n",
    "    history.append(model.fit(x=tr_x_input,y=tr_y_input,epochs=2000,\n",
    "                             validation_data=(va_x_input,va_y_input),batch_size=100,\n",
    "                             verbose=0,callbacks=[plot_losses,early_stopping]))\n",
    "    val_pred.extend(model.predict(x=va_x_input))\n",
    "    val_y.extend(va_y_input)\n",
    "    print(Sec2Time(time()-t0))"
   ]
  },
  {
   "cell_type": "code",
   "execution_count": 11,
   "metadata": {},
   "outputs": [],
   "source": [
    "# 获取预测结果\n",
    "tr_prob = model.predict(x=tr_scaled_x.values) #预测概率\n",
    "te_prob = model.predict(x=te_scaled_x.values)\n",
    "tr_pred = np.argmax(tr_prob,axis=1)  #预测概率转化成0和1\n",
    "te_pred = np.argmax(te_prob,axis=1)"
   ]
  },
  {
   "cell_type": "code",
   "execution_count": 12,
   "metadata": {},
   "outputs": [
    {
     "name": "stdout",
     "output_type": "stream",
     "text": [
      "0.94 0.9679\n",
      "0.84 0.9206\n",
      "0.8 0.8929 0.8395 0.9661\n"
     ]
    }
   ],
   "source": [
    "# 评价预测结果\n",
    "te_Evaluator = modelEvaluator(te_y.values, te_pred)\n",
    "val_Evaluator = modelEvaluator(np.argmax(val_y,axis=1), np.argmax(val_pred,axis=1))\n",
    "tr_Evaluator = modelEvaluator(tr_y.values, tr_pred)\n",
    "print(tr_Evaluator.mcc,tr_Evaluator.accuracy)\n",
    "print(val_Evaluator.mcc,val_Evaluator.accuracy)\n",
    "print(te_Evaluator.mcc,te_Evaluator.accuracy,te_Evaluator.se,te_Evaluator.sp)"
   ]
  },
  {
   "cell_type": "code",
   "execution_count": 14,
   "metadata": {},
   "outputs": [
    {
     "data": {
      "image/png": "[encoded data removed]",
      "text/plain": [
       "<Figure size 432x288 with 1 Axes>"
      ]
     },
     "metadata": {},
     "output_type": "display_data"
    }
   ],
   "source": [
    "# 用预测的概率值画ROC曲线\n",
    "tr_fpr,tr_tpr,tr_threshold = roc_curve(tr_y.values, tr_prob[:,1], pos_label=1, \n",
    "                                       drop_intermediate=True) ###计算真正率和假正率\n",
    "tr_roc_auc = auc(tr_fpr,tr_tpr) ###计算auc的值 \n",
    "\n",
    "te_fpr,te_tpr,te_threshold = roc_curve(te_y.values, te_prob[:,1], pos_label=1, \n",
    "                                       drop_intermediate=True) ###计算真正率和假正率\n",
    "te_roc_auc = auc(te_fpr,te_tpr) ###计算auc的值\n",
    "\n",
    "plt.figure()  \n",
    "lw = 0.8  \n",
    "# plt.figure(figsize=(6,6))\n",
    "plt.plot(tr_fpr, tr_tpr, color='r',  \n",
    "         lw=lw, label='ROC curve of training set (AUC = %0.2f)' % tr_roc_auc) ###假正率为横坐标，真正率为纵坐标做曲线\n",
    "plt.plot(te_fpr, te_tpr, color='LimeGreen',  \n",
    "         lw=lw, label='ROC curve of test set (AUC = %0.2f)' % te_roc_auc) ###假正率为横坐标，真正率为纵坐标做曲线\n",
    "plt.plot([0, 1], [0, 1], color='b', lw=lw, linestyle='--')  \n",
    "\n",
    "plt.xlim([-0.02, 1.03])  \n",
    "plt.ylim([-0.02, 1.03])  \n",
    "plt.xlabel('False Positive Rate')  \n",
    "plt.ylabel('True Positive Rate')  \n",
    "plt.title('ROC curve')  \n",
    "plt.legend(loc=\"lower right\")  \n",
    "# plt.savefig('./cox-2/ROC_MLP_MLP_CORINA.tif',dpi=300,bbox_inches='tight')\n",
    "plt.show()  "
   ]
  },
  {
   "cell_type": "code",
   "execution_count": 1561,
   "metadata": {},
   "outputs": [],
   "source": [
    "# 保存模型\n",
    "model.save('./cox-2/model_cox2_clf_MLP_MLP_CORINA.h5')"
   ]
  },
  {
   "cell_type": "code",
   "execution_count": 1563,
   "metadata": {},
   "outputs": [],
   "source": [
    "# 保存预测结果（包括概率值）\n",
    "result_df = pd.concat([pd.DataFrame(tr_prob,columns=['tr_prob0','tr_prob1']),\n",
    "                     pd.DataFrame(val_pred,columns=['val_prob0','val_prob1']),\n",
    "                     pd.DataFrame(te_prob,columns=['te_prob0','te_prob1'])],axis=1)\n",
    "result_df.to_csv('./cox-2/pred_results_MLP_MLP_CORINA.csv',index=False)"
   ]
  },
  {
   "cell_type": "code",
   "execution_count": 15,
   "metadata": {},
   "outputs": [],
   "source": [
    "# 从history获取每个epoch的loss值\n",
    "\n",
    "tr_loss = []\n",
    "va_loss = []\n",
    "tr_loss_flat = []\n",
    "va_loss_flat = []\n",
    "# tr_acc_flat = []\n",
    "# va_acc_flat = []\n",
    "for i in range(len(history)):\n",
    "    tr_loss.append(history[i].history['loss'])\n",
    "    va_loss.append(history[i].history['val_loss'])\n",
    "    tr_loss_flat.extend(history[i].history['loss'])\n",
    "    va_loss_flat.extend(history[i].history['val_loss'])\n",
    "#     tr_loss_flat.extend(history[i].history['acc'])\n",
    "#     va_loss_flat.extend(history[i].history['val_acc'])"
   ]
  },
  {
   "cell_type": "code",
   "execution_count": 16,
   "metadata": {},
   "outputs": [
    {
     "data": {
      "image/png": "[encoded data removed]",
      "text/plain": [
       "<Figure size 432x288 with 1 Axes>"
      ]
     },
     "metadata": {},
     "output_type": "display_data"
    }
   ],
   "source": [
    "# 绘制所有训练过程的loss变化图\n",
    "step = 0\n",
    "flag = [0]\n",
    "for i in range(len(tr_loss)-1):\n",
    "    step = step+len(tr_loss[i])\n",
    "    flag.append(step)\n",
    "flag.append(len(tr_loss_flat))\n",
    "\n",
    "h = 0.05\n",
    "x_min = 0\n",
    "x_max = len(tr_loss_flat)\n",
    "y_min = min(tr_loss_flat)-1\n",
    "y_max = max(tr_loss_flat)+1\n",
    "xx, yy = np.meshgrid(np.arange(x_min, x_max, h), np.arange(y_min, y_max, h))\n",
    "\n",
    "Z = np.zeros_like(xx)\n",
    "\n",
    "for i in range(len(flag)-1):\n",
    "    Z[np.where((flag[i]<xx)&(xx<=flag[i+1]))] = i+1\n",
    "\n",
    "fig = plt.figure()\n",
    "plt.plot(tr_loss_flat,c='b',ls='solid',lw=0.8)\n",
    "plt.plot(va_loss_flat,c='r',ls='-.',lw=0.8)\n",
    "plt.imshow(Z, interpolation='nearest',alpha=0.5,\n",
    "           extent=(xx.min(), xx.max(), yy.min(), yy.max()),\n",
    "           cmap=plt.cm.Greys,\n",
    "           aspect='auto', origin='lower')\n",
    "plt.title('Model Prediction Loss (CrossEntropy)',fontproperties='Arial',\n",
    "          fontsize=15,fontstyle='normal')\n",
    "plt.xlim(-2,x_max+1)\n",
    "plt.ylim(0,1)\n",
    "for i in range(len(flag)-1):\n",
    "    plt.text(np.average(flag[i:i+2]), 0.5, '{}th\\nfold'.format(i+1), fontsize=2,color='#FF00FF',\n",
    "             fontproperties='Arial',rasterized=True,horizontalalignment='center')\n",
    "plt.ylabel('Loss',fontproperties='Times New Roman',fontsize=13)\n",
    "plt.xlabel('Epoch',fontproperties='Times New Roman',fontsize=13)\n",
    "plt.legend(['training loss', 'validation loss'], loc=(0.05,0.84))\n",
    "# plt.savefig('./cox-2/loss_fig_MLP_MLP_CORINA.tif',dpi=300,bbox_inches='tight')\n",
    "plt.show()"
   ]
  },
  {
   "cell_type": "code",
   "execution_count": 1544,
   "metadata": {},
   "outputs": [],
   "source": [
    "#==============保存loss值文件============#\n",
    "\n",
    "tr_loss_df = pd.DataFrame(tr_loss,index=['fold_{}'.format(i+1) for i in range(len(tr_loss))]).T\n",
    "val_loss_df = pd.DataFrame(va_loss,index=['fold_{}'.format(i+1) for i in range(len(va_loss))]).T\n",
    "\n",
    "tr_loss_df.to_csv('./cox-2/tr_loss_MLP_MLP_CORINA.csv',index=False)\n",
    "val_loss_df.to_csv('./cox-2/val_loss_MLP_MLP_CORINA.csv',index=False)"
   ]
  },
  {
   "cell_type": "code",
   "execution_count": 17,
   "metadata": {},
   "outputs": [
    {
     "data": {
      "image/svg+xml": [
       "<svg height=\"636pt\" viewBox=\"0.00 0.00 299.00 636.00\" width=\"299pt\" xmlns=\"http://www.w3.org/2000/svg\" xmlns:xlink=\"http://www.w3.org/1999/xlink\">\n",
       "<g class=\"graph\" id=\"graph0\" transform=\"scale(1 1) rotate(0) translate(4 632)\">\n",
       "<title>G</title>\n",
       "<polygon fill=\"white\" points=\"-4,4 -4,-632 295,-632 295,4 -4,4\" stroke=\"none\"/>\n",
       "<!-- 1329589543600 -->\n",
       "<g class=\"node\" id=\"node1\"><title>1329589543600</title>\n",
       "<polygon fill=\"none\" points=\"0,-581.5 0,-627.5 291,-627.5 291,-581.5 0,-581.5\" stroke=\"black\"/>\n",
       "<text font-family=\"Times New Roman,serif\" font-size=\"14.00\" text-anchor=\"middle\" x=\"76\" y=\"-600.8\">dense_input: InputLayer</text>\n",
       "<polyline fill=\"none\" points=\"152,-581.5 152,-627.5 \" stroke=\"black\"/>\n",
       "<text font-family=\"Times New Roman,serif\" font-size=\"14.00\" text-anchor=\"middle\" x=\"180\" y=\"-612.3\">input:</text>\n",
       "<polyline fill=\"none\" points=\"152,-604.5 208,-604.5 \" stroke=\"black\"/>\n",
       "<text font-family=\"Times New Roman,serif\" font-size=\"14.00\" text-anchor=\"middle\" x=\"180\" y=\"-589.3\">output:</text>\n",
       "<polyline fill=\"none\" points=\"208,-581.5 208,-627.5 \" stroke=\"black\"/>\n",
       "<text font-family=\"Times New Roman,serif\" font-size=\"14.00\" text-anchor=\"middle\" x=\"249.5\" y=\"-612.3\">(None, 166)</text>\n",
       "<polyline fill=\"none\" points=\"208,-604.5 291,-604.5 \" stroke=\"black\"/>\n",
       "<text font-family=\"Times New Roman,serif\" font-size=\"14.00\" text-anchor=\"middle\" x=\"249.5\" y=\"-589.3\">(None, 166)</text>\n",
       "</g>\n",
       "<!-- 1329596317936 -->\n",
       "<g class=\"node\" id=\"node2\"><title>1329596317936</title>\n",
       "<polygon fill=\"none\" points=\"31,-498.5 31,-544.5 260,-544.5 260,-498.5 31,-498.5\" stroke=\"black\"/>\n",
       "<text font-family=\"Times New Roman,serif\" font-size=\"14.00\" text-anchor=\"middle\" x=\"76\" y=\"-517.8\">dense: Dense</text>\n",
       "<polyline fill=\"none\" points=\"121,-498.5 121,-544.5 \" stroke=\"black\"/>\n",
       "<text font-family=\"Times New Roman,serif\" font-size=\"14.00\" text-anchor=\"middle\" x=\"149\" y=\"-529.3\">input:</text>\n",
       "<polyline fill=\"none\" points=\"121,-521.5 177,-521.5 \" stroke=\"black\"/>\n",
       "<text font-family=\"Times New Roman,serif\" font-size=\"14.00\" text-anchor=\"middle\" x=\"149\" y=\"-506.3\">output:</text>\n",
       "<polyline fill=\"none\" points=\"177,-498.5 177,-544.5 \" stroke=\"black\"/>\n",
       "<text font-family=\"Times New Roman,serif\" font-size=\"14.00\" text-anchor=\"middle\" x=\"218.5\" y=\"-529.3\">(None, 166)</text>\n",
       "<polyline fill=\"none\" points=\"177,-521.5 260,-521.5 \" stroke=\"black\"/>\n",
       "<text font-family=\"Times New Roman,serif\" font-size=\"14.00\" text-anchor=\"middle\" x=\"218.5\" y=\"-506.3\">(None, 64)</text>\n",
       "</g>\n",
       "<!-- 1329589543600&#45;&gt;1329596317936 -->\n",
       "<g class=\"edge\" id=\"edge1\"><title>1329589543600-&gt;1329596317936</title>\n",
       "<path d=\"M145.5,-581.366C145.5,-573.152 145.5,-563.658 145.5,-554.725\" fill=\"none\" stroke=\"black\"/>\n",
       "<polygon fill=\"black\" points=\"149,-554.607 145.5,-544.607 142,-554.607 149,-554.607\" stroke=\"black\"/>\n",
       "</g>\n",
       "<!-- 1329589544440 -->\n",
       "<g class=\"node\" id=\"node3\"><title>1329589544440</title>\n",
       "<polygon fill=\"none\" points=\"21,-415.5 21,-461.5 270,-461.5 270,-415.5 21,-415.5\" stroke=\"black\"/>\n",
       "<text font-family=\"Times New Roman,serif\" font-size=\"14.00\" text-anchor=\"middle\" x=\"79\" y=\"-434.8\">dropout: Dropout</text>\n",
       "<polyline fill=\"none\" points=\"137,-415.5 137,-461.5 \" stroke=\"black\"/>\n",
       "<text font-family=\"Times New Roman,serif\" font-size=\"14.00\" text-anchor=\"middle\" x=\"165\" y=\"-446.3\">input:</text>\n",
       "<polyline fill=\"none\" points=\"137,-438.5 193,-438.5 \" stroke=\"black\"/>\n",
       "<text font-family=\"Times New Roman,serif\" font-size=\"14.00\" text-anchor=\"middle\" x=\"165\" y=\"-423.3\">output:</text>\n",
       "<polyline fill=\"none\" points=\"193,-415.5 193,-461.5 \" stroke=\"black\"/>\n",
       "<text font-family=\"Times New Roman,serif\" font-size=\"14.00\" text-anchor=\"middle\" x=\"231.5\" y=\"-446.3\">(None, 64)</text>\n",
       "<polyline fill=\"none\" points=\"193,-438.5 270,-438.5 \" stroke=\"black\"/>\n",
       "<text font-family=\"Times New Roman,serif\" font-size=\"14.00\" text-anchor=\"middle\" x=\"231.5\" y=\"-423.3\">(None, 64)</text>\n",
       "</g>\n",
       "<!-- 1329596317936&#45;&gt;1329589544440 -->\n",
       "<g class=\"edge\" id=\"edge2\"><title>1329596317936-&gt;1329589544440</title>\n",
       "<path d=\"M145.5,-498.366C145.5,-490.152 145.5,-480.658 145.5,-471.725\" fill=\"none\" stroke=\"black\"/>\n",
       "<polygon fill=\"black\" points=\"149,-471.607 145.5,-461.607 142,-471.607 149,-471.607\" stroke=\"black\"/>\n",
       "</g>\n",
       "<!-- 1329589544944 -->\n",
       "<g class=\"node\" id=\"node4\"><title>1329589544944</title>\n",
       "<polygon fill=\"none\" points=\"31,-332.5 31,-378.5 260,-378.5 260,-332.5 31,-332.5\" stroke=\"black\"/>\n",
       "<text font-family=\"Times New Roman,serif\" font-size=\"14.00\" text-anchor=\"middle\" x=\"79\" y=\"-351.8\">Layer2: Dense</text>\n",
       "<polyline fill=\"none\" points=\"127,-332.5 127,-378.5 \" stroke=\"black\"/>\n",
       "<text font-family=\"Times New Roman,serif\" font-size=\"14.00\" text-anchor=\"middle\" x=\"155\" y=\"-363.3\">input:</text>\n",
       "<polyline fill=\"none\" points=\"127,-355.5 183,-355.5 \" stroke=\"black\"/>\n",
       "<text font-family=\"Times New Roman,serif\" font-size=\"14.00\" text-anchor=\"middle\" x=\"155\" y=\"-340.3\">output:</text>\n",
       "<polyline fill=\"none\" points=\"183,-332.5 183,-378.5 \" stroke=\"black\"/>\n",
       "<text font-family=\"Times New Roman,serif\" font-size=\"14.00\" text-anchor=\"middle\" x=\"221.5\" y=\"-363.3\">(None, 64)</text>\n",
       "<polyline fill=\"none\" points=\"183,-355.5 260,-355.5 \" stroke=\"black\"/>\n",
       "<text font-family=\"Times New Roman,serif\" font-size=\"14.00\" text-anchor=\"middle\" x=\"221.5\" y=\"-340.3\">(None, 64)</text>\n",
       "</g>\n",
       "<!-- 1329589544440&#45;&gt;1329589544944 -->\n",
       "<g class=\"edge\" id=\"edge3\"><title>1329589544440-&gt;1329589544944</title>\n",
       "<path d=\"M145.5,-415.366C145.5,-407.152 145.5,-397.658 145.5,-388.725\" fill=\"none\" stroke=\"black\"/>\n",
       "<polygon fill=\"black\" points=\"149,-388.607 145.5,-378.607 142,-388.607 149,-388.607\" stroke=\"black\"/>\n",
       "</g>\n",
       "<!-- 1329589545560 -->\n",
       "<g class=\"node\" id=\"node5\"><title>1329589545560</title>\n",
       "<polygon fill=\"none\" points=\"27,-249.5 27,-295.5 264,-295.5 264,-249.5 27,-249.5\" stroke=\"black\"/>\n",
       "<text font-family=\"Times New Roman,serif\" font-size=\"14.00\" text-anchor=\"middle\" x=\"79\" y=\"-268.8\">dense_1: Dense</text>\n",
       "<polyline fill=\"none\" points=\"131,-249.5 131,-295.5 \" stroke=\"black\"/>\n",
       "<text font-family=\"Times New Roman,serif\" font-size=\"14.00\" text-anchor=\"middle\" x=\"159\" y=\"-280.3\">input:</text>\n",
       "<polyline fill=\"none\" points=\"131,-272.5 187,-272.5 \" stroke=\"black\"/>\n",
       "<text font-family=\"Times New Roman,serif\" font-size=\"14.00\" text-anchor=\"middle\" x=\"159\" y=\"-257.3\">output:</text>\n",
       "<polyline fill=\"none\" points=\"187,-249.5 187,-295.5 \" stroke=\"black\"/>\n",
       "<text font-family=\"Times New Roman,serif\" font-size=\"14.00\" text-anchor=\"middle\" x=\"225.5\" y=\"-280.3\">(None, 64)</text>\n",
       "<polyline fill=\"none\" points=\"187,-272.5 264,-272.5 \" stroke=\"black\"/>\n",
       "<text font-family=\"Times New Roman,serif\" font-size=\"14.00\" text-anchor=\"middle\" x=\"225.5\" y=\"-257.3\">(None, 16)</text>\n",
       "</g>\n",
       "<!-- 1329589544944&#45;&gt;1329589545560 -->\n",
       "<g class=\"edge\" id=\"edge4\"><title>1329589544944-&gt;1329589545560</title>\n",
       "<path d=\"M145.5,-332.366C145.5,-324.152 145.5,-314.658 145.5,-305.725\" fill=\"none\" stroke=\"black\"/>\n",
       "<polygon fill=\"black\" points=\"149,-305.607 145.5,-295.607 142,-305.607 149,-305.607\" stroke=\"black\"/>\n",
       "</g>\n",
       "<!-- 1329589546680 -->\n",
       "<g class=\"node\" id=\"node6\"><title>1329589546680</title>\n",
       "<polygon fill=\"none\" points=\"27,-166.5 27,-212.5 264,-212.5 264,-166.5 27,-166.5\" stroke=\"black\"/>\n",
       "<text font-family=\"Times New Roman,serif\" font-size=\"14.00\" text-anchor=\"middle\" x=\"79\" y=\"-185.8\">dense_2: Dense</text>\n",
       "<polyline fill=\"none\" points=\"131,-166.5 131,-212.5 \" stroke=\"black\"/>\n",
       "<text font-family=\"Times New Roman,serif\" font-size=\"14.00\" text-anchor=\"middle\" x=\"159\" y=\"-197.3\">input:</text>\n",
       "<polyline fill=\"none\" points=\"131,-189.5 187,-189.5 \" stroke=\"black\"/>\n",
       "<text font-family=\"Times New Roman,serif\" font-size=\"14.00\" text-anchor=\"middle\" x=\"159\" y=\"-174.3\">output:</text>\n",
       "<polyline fill=\"none\" points=\"187,-166.5 187,-212.5 \" stroke=\"black\"/>\n",
       "<text font-family=\"Times New Roman,serif\" font-size=\"14.00\" text-anchor=\"middle\" x=\"225.5\" y=\"-197.3\">(None, 16)</text>\n",
       "<polyline fill=\"none\" points=\"187,-189.5 264,-189.5 \" stroke=\"black\"/>\n",
       "<text font-family=\"Times New Roman,serif\" font-size=\"14.00\" text-anchor=\"middle\" x=\"225.5\" y=\"-174.3\">(None, 8)</text>\n",
       "</g>\n",
       "<!-- 1329589545560&#45;&gt;1329589546680 -->\n",
       "<g class=\"edge\" id=\"edge5\"><title>1329589545560-&gt;1329589546680</title>\n",
       "<path d=\"M145.5,-249.366C145.5,-241.152 145.5,-231.658 145.5,-222.725\" fill=\"none\" stroke=\"black\"/>\n",
       "<polygon fill=\"black\" points=\"149,-222.607 145.5,-212.607 142,-222.607 149,-222.607\" stroke=\"black\"/>\n",
       "</g>\n",
       "<!-- 1329589823640 -->\n",
       "<g class=\"node\" id=\"node7\"><title>1329589823640</title>\n",
       "<polygon fill=\"none\" points=\"17.5,-83.5 17.5,-129.5 273.5,-129.5 273.5,-83.5 17.5,-83.5\" stroke=\"black\"/>\n",
       "<text font-family=\"Times New Roman,serif\" font-size=\"14.00\" text-anchor=\"middle\" x=\"82.5\" y=\"-102.8\">dropout_1: Dropout</text>\n",
       "<polyline fill=\"none\" points=\"147.5,-83.5 147.5,-129.5 \" stroke=\"black\"/>\n",
       "<text font-family=\"Times New Roman,serif\" font-size=\"14.00\" text-anchor=\"middle\" x=\"175.5\" y=\"-114.3\">input:</text>\n",
       "<polyline fill=\"none\" points=\"147.5,-106.5 203.5,-106.5 \" stroke=\"black\"/>\n",
       "<text font-family=\"Times New Roman,serif\" font-size=\"14.00\" text-anchor=\"middle\" x=\"175.5\" y=\"-91.3\">output:</text>\n",
       "<polyline fill=\"none\" points=\"203.5,-83.5 203.5,-129.5 \" stroke=\"black\"/>\n",
       "<text font-family=\"Times New Roman,serif\" font-size=\"14.00\" text-anchor=\"middle\" x=\"238.5\" y=\"-114.3\">(None, 8)</text>\n",
       "<polyline fill=\"none\" points=\"203.5,-106.5 273.5,-106.5 \" stroke=\"black\"/>\n",
       "<text font-family=\"Times New Roman,serif\" font-size=\"14.00\" text-anchor=\"middle\" x=\"238.5\" y=\"-91.3\">(None, 8)</text>\n",
       "</g>\n",
       "<!-- 1329589546680&#45;&gt;1329589823640 -->\n",
       "<g class=\"edge\" id=\"edge6\"><title>1329589546680-&gt;1329589823640</title>\n",
       "<path d=\"M145.5,-166.366C145.5,-158.152 145.5,-148.658 145.5,-139.725\" fill=\"none\" stroke=\"black\"/>\n",
       "<polygon fill=\"black\" points=\"149,-139.607 145.5,-129.607 142,-139.607 149,-139.607\" stroke=\"black\"/>\n",
       "</g>\n",
       "<!-- 1329589980240 -->\n",
       "<g class=\"node\" id=\"node8\"><title>1329589980240</title>\n",
       "<polygon fill=\"none\" points=\"18.5,-0.5 18.5,-46.5 272.5,-46.5 272.5,-0.5 18.5,-0.5\" stroke=\"black\"/>\n",
       "<text font-family=\"Times New Roman,serif\" font-size=\"14.00\" text-anchor=\"middle\" x=\"82.5\" y=\"-19.8\">OutputLayer: Dense</text>\n",
       "<polyline fill=\"none\" points=\"146.5,-0.5 146.5,-46.5 \" stroke=\"black\"/>\n",
       "<text font-family=\"Times New Roman,serif\" font-size=\"14.00\" text-anchor=\"middle\" x=\"174.5\" y=\"-31.3\">input:</text>\n",
       "<polyline fill=\"none\" points=\"146.5,-23.5 202.5,-23.5 \" stroke=\"black\"/>\n",
       "<text font-family=\"Times New Roman,serif\" font-size=\"14.00\" text-anchor=\"middle\" x=\"174.5\" y=\"-8.3\">output:</text>\n",
       "<polyline fill=\"none\" points=\"202.5,-0.5 202.5,-46.5 \" stroke=\"black\"/>\n",
       "<text font-family=\"Times New Roman,serif\" font-size=\"14.00\" text-anchor=\"middle\" x=\"237.5\" y=\"-31.3\">(None, 8)</text>\n",
       "<polyline fill=\"none\" points=\"202.5,-23.5 272.5,-23.5 \" stroke=\"black\"/>\n",
       "<text font-family=\"Times New Roman,serif\" font-size=\"14.00\" text-anchor=\"middle\" x=\"237.5\" y=\"-8.3\">(None, 2)</text>\n",
       "</g>\n",
       "<!-- 1329589823640&#45;&gt;1329589980240 -->\n",
       "<g class=\"edge\" id=\"edge7\"><title>1329589823640-&gt;1329589980240</title>\n",
       "<path d=\"M145.5,-83.3664C145.5,-75.1516 145.5,-65.6579 145.5,-56.7252\" fill=\"none\" stroke=\"black\"/>\n",
       "<polygon fill=\"black\" points=\"149,-56.6068 145.5,-46.6068 142,-56.6069 149,-56.6068\" stroke=\"black\"/>\n",
       "</g>\n",
       "</g>\n",
       "</svg>"
      ],
      "text/plain": [
       "<IPython.core.display.SVG object>"
      ]
     },
     "execution_count": 17,
     "metadata": {},
     "output_type": "execute_result"
    }
   ],
   "source": [
    "# 生成神经网络结构图\n",
    "\n",
    "# plot_model(model,to_file='./cox-2/model_MLP_MLP_CORINA.tif',show_shapes=True,rankdir='TB')\n",
    "SVG(model_to_dot(model,show_shapes=True).create(prog='dot', format='svg'))"
   ]
  },
  {
   "cell_type": "code",
   "execution_count": null,
   "metadata": {},
   "outputs": [],
   "source": []
  }
 ],
 "metadata": {
  "kernelspec": {
   "display_name": "Python 3",
   "language": "python",
   "name": "python3"
  },
  "language_info": {
   "codemirror_mode": {
    "name": "ipython",
    "version": 3
   },
   "file_extension": ".py",
   "mimetype": "text/x-python",
   "name": "python",
   "nbconvert_exporter": "python",
   "pygments_lexer": "ipython3",
   "version": "3.6.7"
  }
 },
 "nbformat": 4,
 "nbformat_minor": 2
}
