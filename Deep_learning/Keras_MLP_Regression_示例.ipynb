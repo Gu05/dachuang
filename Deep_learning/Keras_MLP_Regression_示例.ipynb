{
 "cells": [
  {
   "cell_type": "code",
   "execution_count": 1,
   "metadata": {},
   "outputs": [
    {
     "name": "stderr",
     "output_type": "stream",
     "text": [
      "Using TensorFlow backend.\n"
     ]
    }
   ],
   "source": [
    "import numpy as np\n",
    "import pandas as pd\n",
    "import tensorflow as tf\n",
    "from tensorflow.keras import layers,Sequential\n",
    "from tensorflow.keras.callbacks import EarlyStopping,TensorBoard\n",
    "from tensorflow.keras.utils import plot_model\n",
    "from tensorflow.keras.models import load_model\n",
    "from QSAR_package.data_split import randomSpliter\n",
    "from QSAR_package.feature_preprocess import correlationSelection\n",
    "from QSAR_package.data_scale import dataScale\n",
    "from QSAR_package.model_evaluation import modelEvaluator\n",
    "from time import time\n",
    "from IPython.display import SVG\n",
    "from keras.utils.vis_utils import model_to_dot\n",
    "import matplotlib.pyplot as plt\n",
    "from sklearn.model_selection import ShuffleSplit\n",
    "from IPython.display import clear_output"
   ]
  },
  {
   "cell_type": "code",
   "execution_count": 2,
   "metadata": {},
   "outputs": [],
   "source": [
    "def Sec2Time(seconds):  # convert seconds to time\n",
    "    m, s = divmod(int(seconds), 60)\n",
    "    h, m = divmod(m, 60)\n",
    "    return (\"{:02d}h:{:02d}m:{:02d}s\".format(h, m, s))"
   ]
  },
  {
   "cell_type": "code",
   "execution_count": 3,
   "metadata": {},
   "outputs": [
    {
     "name": "stdout",
     "output_type": "stream",
     "text": [
      "train: 222\n",
      "test: 74\n"
     ]
    }
   ],
   "source": [
    "data_path = \"C:/OneDrive/Jupyter_notebook/regression_new/data/spla2_296_rdkit2d.csv\"\n",
    "\n",
    "# 提取数据，随机分训练集测试集\n",
    "spliter = randomSpliter(test_size=0.25,validation_size=None,random_state=0)\n",
    "spliter.ExtractTotalData(data_path,label_name='pIC50')\n",
    "spliter.SplitData()\n",
    "tr_x = spliter.tr_x\n",
    "tr_y = spliter.tr_y\n",
    "# val_y = spliter.val_y\n",
    "te_y = spliter.te_y\n",
    "\n",
    "# 相关性筛选\n",
    "corr = correlationSelection()\n",
    "corr.PearsonXX(tr_x, tr_y)\n",
    "\n",
    "# 压缩\n",
    "scaler = dataScale(scale_range=(0.1, 0.9))\n",
    "tr_scaled_x = scaler.FitTransform(corr.selected_tr_x)\n",
    "# val_scaled_x = scaler.Transform(spliter.val_x,DataSet='validation')\n",
    "te_scaled_x = scaler.Transform(spliter.te_x,DataSet='test')\n",
    "\n",
    "print('train: {}\\ntest: {}'.format(len(tr_scaled_x),len(te_scaled_x)))\n",
    "# print('train: {}\\nvalidation: {}\\ntest: {}'.format(len(tr_scaled_x),len(val_scaled_x),len(te_scaled_x)))"
   ]
  },
  {
   "cell_type": "code",
   "execution_count": 4,
   "metadata": {},
   "outputs": [
    {
     "name": "stdout",
     "output_type": "stream",
     "text": [
      "(71,)\n"
     ]
    }
   ],
   "source": [
    "print(tr_scaled_x.columns.shape)"
   ]
  },
  {
   "cell_type": "code",
   "execution_count": 5,
   "metadata": {},
   "outputs": [],
   "source": [
    "# 把原始训练集分成若干组小训练集和验证集\n",
    "rs = ShuffleSplit(n_splits=5, test_size=0.2, random_state=0)\n",
    "rs.get_n_splits(tr_y)\n",
    "tr_idxs = []\n",
    "va_idxs = []\n",
    "for train_index, test_index in rs.split(tr_y):\n",
    "    tr_idxs.append(train_index)\n",
    "    va_idxs.append(test_index)"
   ]
  },
  {
   "cell_type": "code",
   "execution_count": 6,
   "metadata": {},
   "outputs": [],
   "source": [
    "tr_x_input = tr_scaled_x.iloc[tr_idxs[4],:]\n",
    "va_x_input = tr_scaled_x.iloc[va_idxs[4],:]"
   ]
  },
  {
   "cell_type": "code",
   "execution_count": 8,
   "metadata": {},
   "outputs": [],
   "source": [
    "# 自定义的回调函数——实时显示loss变化图\n",
    "class PlotLosses(tf.keras.callbacks.Callback):\n",
    "    def on_train_begin(self, logs={}):\n",
    "        self.i = 0\n",
    "        self.x = []\n",
    "        self.losses = []\n",
    "        self.val_losses = []\n",
    "        \n",
    "        self.fig = plt.figure()\n",
    "        \n",
    "        self.logs = []\n",
    "\n",
    "    def on_epoch_end(self, epoch, logs={}):\n",
    "        \n",
    "        self.logs.append(logs)\n",
    "        self.x.append(self.i)\n",
    "        self.losses.append(logs.get('loss'))\n",
    "        self.val_losses.append(logs.get('val_loss'))\n",
    "        self.i += 1\n",
    "        \n",
    "        clear_output(wait=True)\n",
    "        plt.plot(self.x, self.losses, c='b',lw=1,label=\"loss\")\n",
    "        plt.plot(self.x, self.val_losses, c='r',lw=1,label=\"val_loss\")\n",
    "        plt.legend()\n",
    "        plt.show();\n",
    "        \n",
    "    def on_train_end(self, logs={}):\n",
    "        print('Training complete')\n",
    "        \n",
    "plot_losses = PlotLosses()"
   ]
  },
  {
   "cell_type": "code",
   "execution_count": 12,
   "metadata": {},
   "outputs": [],
   "source": [
    "# 构建网络结构\n",
    "tf.keras.backend.clear_session()\n",
    "t0 = time()\n",
    "model = Sequential()\n",
    "model.add(layers.Dense(units=20,activation='relu',name='Layer1',input_shape=(tr_scaled_x.shape[1],)))\n",
    "model.add(layers.Dense(units=20,activation='relu',name='Layer2'))\n",
    "model.add(layers.Dense(units=1,activation='relu',name='OutputLayer'))\n",
    "\n",
    "model.compile(optimizer=tf.keras.optimizers.Adam(lr=0.001),\n",
    "             loss='mse',metrics=['mae'])\n",
    "early_stopping = EarlyStopping(monitor='val_loss', min_delta=0,patience=30, verbose=0,mode='auto')\n",
    "\n",
    "# tb = TensorBoard(log_dir='./logs',  # log 目录\n",
    "#                  histogram_freq=1,  # 按照何等频率（epoch）来计算直方图，0为不计算\n",
    "#                  batch_size=32,     # 用多大量的数据计算直方图\n",
    "#                  write_graph=True,  # 是否存储网络结构图\n",
    "#                  write_grads=False, # 是否可视化梯度直方图\n",
    "#                  write_images=False,# 是否可视化参数\n",
    "#                  embeddings_freq=0, \n",
    "#                  embeddings_layer_names=None, \n",
    "#                  embeddings_metadata=None)"
   ]
  },
  {
   "cell_type": "code",
   "execution_count": 13,
   "metadata": {},
   "outputs": [
    {
     "data": {
      "image/png": "[encoded data removed]",
      "text/plain": [
       "<Figure size 432x288 with 1 Axes>"
      ]
     },
     "metadata": {},
     "output_type": "display_data"
    },
    {
     "name": "stdout",
     "output_type": "stream",
     "text": [
      "Training complete\n",
      "00h:00m:39s\n"
     ]
    }
   ],
   "source": [
    "# 训练模型（利用若干组小训练集和验证集重复训练与early_stop）\n",
    "history = []\n",
    "val_pred = []\n",
    "val_y = []\n",
    "for i in range(len(tr_idxs)):\n",
    "    tr_x_input = tr_scaled_x.iloc[tr_idxs[i],:].values\n",
    "    tr_y_input = tr_y.iloc[tr_idxs[i]].values\n",
    "    va_x_input = tr_scaled_x.iloc[va_idxs[i],:].values\n",
    "    va_y_input = tr_y.iloc[va_idxs[i]].values\n",
    "    history.append(model.fit(x=tr_x_input,y=tr_y_input,epochs=2000,validation_data=(va_x_input,va_y_input),\n",
    "                        verbose=0,callbacks=[early_stopping,plot_losses]))\n",
    "    val_pred.extend(model.predict(x=va_x_input).flatten())\n",
    "    val_y.extend(va_y_input)\n",
    "    print(Sec2Time(time()-t0))"
   ]
  },
  {
   "cell_type": "code",
   "execution_count": 14,
   "metadata": {},
   "outputs": [],
   "source": [
    "# 获取预测结果\n",
    "tr_pred = model.predict(x=tr_scaled_x.values).flatten()\n",
    "# val_pred = model.predict(x=val_scaled_x.values).flatten()\n",
    "te_pred = model.predict(x=te_scaled_x.values).flatten()"
   ]
  },
  {
   "cell_type": "code",
   "execution_count": 16,
   "metadata": {},
   "outputs": [
    {
     "name": "stdout",
     "output_type": "stream",
     "text": [
      "0.7766 0.547\n",
      "0.692 0.6681\n",
      "0.7197 0.6419\n"
     ]
    }
   ],
   "source": [
    "# 评价预测结果\n",
    "tr_Evaluator = modelEvaluator(tr_y, tr_pred)\n",
    "val_Evaluator = modelEvaluator(val_y, val_pred)\n",
    "te_Evaluator = modelEvaluator(te_y, te_pred)\n",
    "print(tr_Evaluator.r2,tr_Evaluator.rmse)\n",
    "print(val_Evaluator.r2,val_Evaluator.rmse)\n",
    "print(te_Evaluator.r2,te_Evaluator.rmse)"
   ]
  },
  {
   "cell_type": "code",
   "execution_count": 38,
   "metadata": {},
   "outputs": [],
   "source": [
    "# 保存预测结果\n",
    "pred_results = pd.DataFrame([tr_y.values,tr_pred,val_y,val_pred,te_y.values,te_pred],\n",
    "                            index=['tr_y','tr_pred','val_y','val_pred','te_y','te_pred']).T\n",
    "pred_results.to_csv('./pred_results.csv',index=False)"
   ]
  },
  {
   "cell_type": "code",
   "execution_count": 28,
   "metadata": {},
   "outputs": [],
   "source": [
    "# 保存模型文件\n",
    "model.save('./model_sPLA2_rgr.h5')"
   ]
  },
  {
   "cell_type": "code",
   "execution_count": 34,
   "metadata": {},
   "outputs": [
    {
     "name": "stdout",
     "output_type": "stream",
     "text": [
      "0.7949 0.5241\n",
      "0.6913 0.6736\n"
     ]
    }
   ],
   "source": [
    "# 重新导入模型并预测\n",
    "model_load = load_model('./model_sPLA2_rgr.h5')\n",
    "\n",
    "tr_pred = model_load.predict(x=tr_scaled_x.values).flatten()\n",
    "te_pred = model_load.predict(x=te_scaled_x.values).flatten()\n",
    "te_Evaluator = modelEvaluator(te_y, te_pred)\n",
    "# val_Evaluator = modelEvaluator(val_y, val_pred, model_kind='rgr')\n",
    "tr_Evaluator = modelEvaluator(tr_y, tr_pred)\n",
    "print(tr_Evaluator.r2,tr_Evaluator.rmse)\n",
    "# print(val_Evaluator.r2,val_Evaluator.mse)\n",
    "print(te_Evaluator.r2,te_Evaluator.rmse)"
   ]
  },
  {
   "cell_type": "code",
   "execution_count": null,
   "metadata": {},
   "outputs": [],
   "source": [
    "# 重新读取预测结果\n",
    "pred_data = pd.read_csv(\"C:/OneDrive/Jupyter_notebook/regression_new/DL_results/pred_results_120.csv\").fillna('None')\n",
    "tr_y = pred_data.tr_y[pred_data.tr_y!='None']\n",
    "tr_pred = pred_data.tr_pred[pred_data.tr_pred!='None']\n",
    "te_y = pred_data.te_y[pred_data.te_y!='None']\n",
    "te_pred = pred_data.te_pred[pred_data.te_pred!='None']"
   ]
  },
  {
   "cell_type": "code",
   "execution_count": 39,
   "metadata": {},
   "outputs": [
    {
     "data": {
      "image/png": "[encoded data removed]",
      "text/plain": [
       "<Figure size 432x432 with 1 Axes>"
      ]
     },
     "metadata": {},
     "output_type": "display_data"
    }
   ],
   "source": [
    "# 画散点图\n",
    "fig = plt.figure(figsize=(6,6))\n",
    "axisMin = min(tr_y.min(),te_y.min(),tr_pred.min(),te_pred.min())-0.5\n",
    "axisMax = max(tr_y.max(),te_y.max(),tr_pred.max(),te_pred.max())+0.5\n",
    "plt.plot(tr_y,tr_pred,'xb',markersize=8)\n",
    "plt.plot(te_y,te_pred,'or',mfc='w',markersize=6)\n",
    "plt.plot([axisMin,axisMax],[axisMin,axisMax],'k',lw=1)\n",
    "plt.axis([axisMin,axisMax,axisMin,axisMax])\n",
    "plt.xlabel('pIC50 values (true)',fontproperties='Times New Roman',fontsize=13)\n",
    "plt.ylabel('pIC50 values (predicted)',fontproperties='Times New Roman',fontsize=13)\n",
    "plt.legend(['training set', 'test set'], loc='best')\n",
    "plt.title('Model 14C',fontproperties='Arial',fontsize=15)\n",
    "# plt.savefig('C:/OneDrive/Jupyter_notebook/regression_new/DL_results/scatter_fig_title_{}.tif'.format(120),\n",
    "#             dpi=300,bbox_inches='tight')\n",
    "plt.show()"
   ]
  },
  {
   "cell_type": "code",
   "execution_count": 21,
   "metadata": {},
   "outputs": [],
   "source": [
    "# 从history获取每个epoch的loss值\n",
    "tr_loss = []\n",
    "va_loss = []\n",
    "tr_loss_flat = []\n",
    "va_loss_flat = []\n",
    "for i in range(len(history)):\n",
    "    tr_loss.append(history[i].history['loss'])\n",
    "    va_loss.append(history[i].history['val_loss'])\n",
    "    tr_loss_flat.extend(history[i].history['loss'])\n",
    "    va_loss_flat.extend(history[i].history['val_loss'])\n",
    "\n",
    "step = 0\n",
    "flag = [0]\n",
    "for i in range(len(tr_loss)-1):\n",
    "    step = step+len(tr_loss[i])\n",
    "    flag.append(step)\n",
    "flag.append(len(tr_loss_flat))"
   ]
  },
  {
   "cell_type": "code",
   "execution_count": null,
   "metadata": {},
   "outputs": [],
   "source": [
    "#==============保存loss值文件============#\n",
    "# tr_loss_df = pd.DataFrame(tr_loss,index=['fold_{}'.format(i+1) for i in range(len(tr_loss))]).T\n",
    "# val_loss_df = pd.DataFrame(va_loss,index=['fold_{}'.format(i+1) for i in range(len(va_loss))]).T\n",
    "\n",
    "# tr_loss_df.to_csv('./sPLA2_rgr/tr_loss.csv',index=False)\n",
    "# val_loss_df.to_csv('./sPLA2_rgr/val_loss.csv',index=False)"
   ]
  },
  {
   "cell_type": "code",
   "execution_count": 18,
   "metadata": {},
   "outputs": [],
   "source": [
    "###========重新读入loss值文件画图=============#\n",
    "# data1 = pd.read_csv(\"C:/OneDrive/Jupyter_notebook/regression_new/DL_results/tr_loss_0.csv\").fillna('None')\n",
    "# data2 = pd.read_csv('C:/OneDrive/Jupyter_notebook/regression_new/DL_results/val_loss_0.csv').fillna('None')\n",
    "\n",
    "# tr_loss = []\n",
    "# va_loss = []\n",
    "# tr_loss_flat = []\n",
    "# va_loss_flat = []\n",
    "# for i in range(len(data1.columns)):\n",
    "#     values1 = [d for d in data1.iloc[:,i] if d is not 'None']\n",
    "#     values2 = [d for d in data2.iloc[:,i] if d is not 'None']\n",
    "#     tr_loss.append(values1)\n",
    "#     tr_loss_flat.extend(values1)\n",
    "#     va_loss.append(values2)\n",
    "#     va_loss_flat.extend(values2)\n",
    "# step = 0\n",
    "# flag = [0]\n",
    "# for i in range(len(tr_loss)-1):\n",
    "#     step = step+len(tr_loss[i])\n",
    "#     flag.append(step)\n",
    "# flag.append(len(tr_loss_flat))"
   ]
  },
  {
   "cell_type": "code",
   "execution_count": 23,
   "metadata": {},
   "outputs": [
    {
     "data": {
      "image/png": "[encoded data removed]",
      "text/plain": [
       "<Figure size 648x432 with 1 Axes>"
      ]
     },
     "metadata": {},
     "output_type": "display_data"
    }
   ],
   "source": [
    "# 绘制所有训练过程的loss变化图\n",
    "h = 0.05\n",
    "x_min = 0\n",
    "x_max = len(tr_loss_flat)\n",
    "y_min = min(tr_loss_flat)-1\n",
    "y_max = max(tr_loss_flat)+1\n",
    "xx, yy = np.meshgrid(np.arange(x_min, x_max, h), np.arange(y_min, y_max, h))\n",
    "\n",
    "Z = np.zeros_like(xx)\n",
    "\n",
    "for i in range(len(flag)-1):\n",
    "    Z[np.where((flag[i]<xx)&(xx<=flag[i+1]))] = i+1\n",
    "\n",
    "fig = plt.figure(figsize=(9,6))\n",
    "plt.plot(tr_loss_flat,c='b',ls='solid',lw=0.8)\n",
    "plt.plot(va_loss_flat,c='r',ls='-.',lw=0.8)\n",
    "plt.imshow(Z, interpolation='nearest',alpha=0.5,\n",
    "           extent=(xx.min(), xx.max(), yy.min(), yy.max()),\n",
    "           cmap=plt.cm.Greys,\n",
    "           aspect='auto', origin='lower')\n",
    "plt.title('Model Prediction Loss (MSE)',fontproperties='Arial',\n",
    "          fontsize=15,fontstyle='normal')\n",
    "plt.xlim(-10,x_max+5)\n",
    "plt.ylim(0,2)\n",
    "for i in range(len(flag)-1):\n",
    "    plt.text(np.average(flag[i:i+2]), 1, '{}th\\nfold'.format(i+1), fontsize=5,color='#FF00FF',\n",
    "             fontproperties='Arial',rasterized=True,horizontalalignment='center')\n",
    "plt.ylabel('Loss',fontproperties='Times New Roman',fontsize=15)\n",
    "plt.xlabel('Epoch',fontproperties='Times New Roman',fontsize=15)\n",
    "plt.title('Model 14A',fontproperties='Arial',fontsize=17)\n",
    "plt.legend(['training loss', 'validation loss'], loc=(0.05,0.86),fontsize=12)\n",
    "# plt.savefig('C:/OneDrive/Jupyter_notebook/regression_new/DL_results/loss_fig_title_0.tif',dpi=300,bbox_inches='tight')\n",
    "plt.show()"
   ]
  },
  {
   "cell_type": "code",
   "execution_count": 24,
   "metadata": {},
   "outputs": [
    {
     "data": {
      "image/svg+xml": [
       "<svg height=\"304pt\" viewBox=\"0.00 0.00 299.00 304.00\" width=\"299pt\" xmlns=\"http://www.w3.org/2000/svg\" xmlns:xlink=\"http://www.w3.org/1999/xlink\">\n",
       "<g class=\"graph\" id=\"graph0\" transform=\"scale(1 1) rotate(0) translate(4 300)\">\n",
       "<title>G</title>\n",
       "<polygon fill=\"white\" points=\"-4,4 -4,-300 295,-300 295,4 -4,4\" stroke=\"none\"/>\n",
       "<!-- 2209565037792 -->\n",
       "<g class=\"node\" id=\"node1\"><title>2209565037792</title>\n",
       "<polygon fill=\"none\" points=\"0,-249.5 0,-295.5 291,-295.5 291,-249.5 0,-249.5\" stroke=\"black\"/>\n",
       "<text font-family=\"Times New Roman,serif\" font-size=\"14.00\" text-anchor=\"middle\" x=\"79\" y=\"-268.8\">Layer1_input: InputLayer</text>\n",
       "<polyline fill=\"none\" points=\"158,-249.5 158,-295.5 \" stroke=\"black\"/>\n",
       "<text font-family=\"Times New Roman,serif\" font-size=\"14.00\" text-anchor=\"middle\" x=\"186\" y=\"-280.3\">input:</text>\n",
       "<polyline fill=\"none\" points=\"158,-272.5 214,-272.5 \" stroke=\"black\"/>\n",
       "<text font-family=\"Times New Roman,serif\" font-size=\"14.00\" text-anchor=\"middle\" x=\"186\" y=\"-257.3\">output:</text>\n",
       "<polyline fill=\"none\" points=\"214,-249.5 214,-295.5 \" stroke=\"black\"/>\n",
       "<text font-family=\"Times New Roman,serif\" font-size=\"14.00\" text-anchor=\"middle\" x=\"252.5\" y=\"-280.3\">(None, 71)</text>\n",
       "<polyline fill=\"none\" points=\"214,-272.5 291,-272.5 \" stroke=\"black\"/>\n",
       "<text font-family=\"Times New Roman,serif\" font-size=\"14.00\" text-anchor=\"middle\" x=\"252.5\" y=\"-257.3\">(None, 71)</text>\n",
       "</g>\n",
       "<!-- 2209565037064 -->\n",
       "<g class=\"node\" id=\"node2\"><title>2209565037064</title>\n",
       "<polygon fill=\"none\" points=\"31,-166.5 31,-212.5 260,-212.5 260,-166.5 31,-166.5\" stroke=\"black\"/>\n",
       "<text font-family=\"Times New Roman,serif\" font-size=\"14.00\" text-anchor=\"middle\" x=\"79\" y=\"-185.8\">Layer1: Dense</text>\n",
       "<polyline fill=\"none\" points=\"127,-166.5 127,-212.5 \" stroke=\"black\"/>\n",
       "<text font-family=\"Times New Roman,serif\" font-size=\"14.00\" text-anchor=\"middle\" x=\"155\" y=\"-197.3\">input:</text>\n",
       "<polyline fill=\"none\" points=\"127,-189.5 183,-189.5 \" stroke=\"black\"/>\n",
       "<text font-family=\"Times New Roman,serif\" font-size=\"14.00\" text-anchor=\"middle\" x=\"155\" y=\"-174.3\">output:</text>\n",
       "<polyline fill=\"none\" points=\"183,-166.5 183,-212.5 \" stroke=\"black\"/>\n",
       "<text font-family=\"Times New Roman,serif\" font-size=\"14.00\" text-anchor=\"middle\" x=\"221.5\" y=\"-197.3\">(None, 71)</text>\n",
       "<polyline fill=\"none\" points=\"183,-189.5 260,-189.5 \" stroke=\"black\"/>\n",
       "<text font-family=\"Times New Roman,serif\" font-size=\"14.00\" text-anchor=\"middle\" x=\"221.5\" y=\"-174.3\">(None, 20)</text>\n",
       "</g>\n",
       "<!-- 2209565037792&#45;&gt;2209565037064 -->\n",
       "<g class=\"edge\" id=\"edge1\"><title>2209565037792-&gt;2209565037064</title>\n",
       "<path d=\"M145.5,-249.366C145.5,-241.152 145.5,-231.658 145.5,-222.725\" fill=\"none\" stroke=\"black\"/>\n",
       "<polygon fill=\"black\" points=\"149,-222.607 145.5,-212.607 142,-222.607 149,-222.607\" stroke=\"black\"/>\n",
       "</g>\n",
       "<!-- 2209565038240 -->\n",
       "<g class=\"node\" id=\"node3\"><title>2209565038240</title>\n",
       "<polygon fill=\"none\" points=\"31,-83.5 31,-129.5 260,-129.5 260,-83.5 31,-83.5\" stroke=\"black\"/>\n",
       "<text font-family=\"Times New Roman,serif\" font-size=\"14.00\" text-anchor=\"middle\" x=\"79\" y=\"-102.8\">Layer2: Dense</text>\n",
       "<polyline fill=\"none\" points=\"127,-83.5 127,-129.5 \" stroke=\"black\"/>\n",
       "<text font-family=\"Times New Roman,serif\" font-size=\"14.00\" text-anchor=\"middle\" x=\"155\" y=\"-114.3\">input:</text>\n",
       "<polyline fill=\"none\" points=\"127,-106.5 183,-106.5 \" stroke=\"black\"/>\n",
       "<text font-family=\"Times New Roman,serif\" font-size=\"14.00\" text-anchor=\"middle\" x=\"155\" y=\"-91.3\">output:</text>\n",
       "<polyline fill=\"none\" points=\"183,-83.5 183,-129.5 \" stroke=\"black\"/>\n",
       "<text font-family=\"Times New Roman,serif\" font-size=\"14.00\" text-anchor=\"middle\" x=\"221.5\" y=\"-114.3\">(None, 20)</text>\n",
       "<polyline fill=\"none\" points=\"183,-106.5 260,-106.5 \" stroke=\"black\"/>\n",
       "<text font-family=\"Times New Roman,serif\" font-size=\"14.00\" text-anchor=\"middle\" x=\"221.5\" y=\"-91.3\">(None, 20)</text>\n",
       "</g>\n",
       "<!-- 2209565037064&#45;&gt;2209565038240 -->\n",
       "<g class=\"edge\" id=\"edge2\"><title>2209565037064-&gt;2209565038240</title>\n",
       "<path d=\"M145.5,-166.366C145.5,-158.152 145.5,-148.658 145.5,-139.725\" fill=\"none\" stroke=\"black\"/>\n",
       "<polygon fill=\"black\" points=\"149,-139.607 145.5,-129.607 142,-139.607 149,-139.607\" stroke=\"black\"/>\n",
       "</g>\n",
       "<!-- 2209565038184 -->\n",
       "<g class=\"node\" id=\"node4\"><title>2209565038184</title>\n",
       "<polygon fill=\"none\" points=\"15,-0.5 15,-46.5 276,-46.5 276,-0.5 15,-0.5\" stroke=\"black\"/>\n",
       "<text font-family=\"Times New Roman,serif\" font-size=\"14.00\" text-anchor=\"middle\" x=\"79\" y=\"-19.8\">OutputLayer: Dense</text>\n",
       "<polyline fill=\"none\" points=\"143,-0.5 143,-46.5 \" stroke=\"black\"/>\n",
       "<text font-family=\"Times New Roman,serif\" font-size=\"14.00\" text-anchor=\"middle\" x=\"171\" y=\"-31.3\">input:</text>\n",
       "<polyline fill=\"none\" points=\"143,-23.5 199,-23.5 \" stroke=\"black\"/>\n",
       "<text font-family=\"Times New Roman,serif\" font-size=\"14.00\" text-anchor=\"middle\" x=\"171\" y=\"-8.3\">output:</text>\n",
       "<polyline fill=\"none\" points=\"199,-0.5 199,-46.5 \" stroke=\"black\"/>\n",
       "<text font-family=\"Times New Roman,serif\" font-size=\"14.00\" text-anchor=\"middle\" x=\"237.5\" y=\"-31.3\">(None, 20)</text>\n",
       "<polyline fill=\"none\" points=\"199,-23.5 276,-23.5 \" stroke=\"black\"/>\n",
       "<text font-family=\"Times New Roman,serif\" font-size=\"14.00\" text-anchor=\"middle\" x=\"237.5\" y=\"-8.3\">(None, 1)</text>\n",
       "</g>\n",
       "<!-- 2209565038240&#45;&gt;2209565038184 -->\n",
       "<g class=\"edge\" id=\"edge3\"><title>2209565038240-&gt;2209565038184</title>\n",
       "<path d=\"M145.5,-83.3664C145.5,-75.1516 145.5,-65.6579 145.5,-56.7252\" fill=\"none\" stroke=\"black\"/>\n",
       "<polygon fill=\"black\" points=\"149,-56.6068 145.5,-46.6068 142,-56.6069 149,-56.6068\" stroke=\"black\"/>\n",
       "</g>\n",
       "</g>\n",
       "</svg>"
      ],
      "text/plain": [
       "<IPython.core.display.SVG object>"
      ]
     },
     "execution_count": 24,
     "metadata": {},
     "output_type": "execute_result"
    }
   ],
   "source": [
    "# 生成神经网络的结构图\n",
    "# plot_model(model,to_file='./sPLA2_rgr/model.png',show_shapes=True,rankdir='TB')\n",
    "im = SVG(model_to_dot(model,show_shapes=True).create(prog='dot', format='svg'))\n",
    "im"
   ]
  },
  {
   "cell_type": "code",
   "execution_count": null,
   "metadata": {},
   "outputs": [],
   "source": [
    "import cairosvg"
   ]
  },
  {
   "cell_type": "code",
   "execution_count": null,
   "metadata": {},
   "outputs": [],
   "source": [
    "# 保存高清的神经网络结构图\n",
    "with open('./temp.svg','w') as f:\n",
    "    f.write(im.data)\n",
    "cairosvg.svg2png( url='./temp.svg', dpi=600, scale=4,\n",
    "                 write_to='C:/OneDrive/Jupyter_notebook/drugbank/figures/mlp_model_structure.png' )"
   ]
  },
  {
   "cell_type": "code",
   "execution_count": null,
   "metadata": {},
   "outputs": [],
   "source": []
  }
 ],
 "metadata": {
  "kernelspec": {
   "display_name": "Python 3",
   "language": "python",
   "name": "python3"
  },
  "language_info": {
   "codemirror_mode": {
    "name": "ipython",
    "version": 3
   },
   "file_extension": ".py",
   "mimetype": "text/x-python",
   "name": "python",
   "nbconvert_exporter": "python",
   "pygments_lexer": "ipython3",
   "version": "3.6.7"
  }
 },
 "nbformat": 4,
 "nbformat_minor": 2
}
